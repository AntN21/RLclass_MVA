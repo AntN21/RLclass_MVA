{
 "cells": [
  {
   "cell_type": "code",
   "execution_count": 1,
   "id": "b98665aa-1cb8-44ce-96cf-6a2c936188f2",
   "metadata": {},
   "outputs": [],
   "source": [
    "import gymnasium as gym\n",
    "cartpole = gym.make(\"InvertedPendulum-v4\", render_mode=\"rgb_array\")"
   ]
  },
  {
   "cell_type": "code",
   "execution_count": 2,
   "id": "4d9da019-cf35-4176-85c0-7196f8372b89",
   "metadata": {},
   "outputs": [],
   "source": [
    "s,_ = cartpole.reset()"
   ]
  },
  {
   "cell_type": "code",
   "execution_count": 3,
   "id": "ac1bad77-bce2-4a97-8631-a312e0dbce9e",
   "metadata": {},
   "outputs": [
    {
     "name": "stdout",
     "output_type": "stream",
     "text": [
      "[ 0.0055234  -0.00533179  0.00840459 -0.00255076]\n"
     ]
    }
   ],
   "source": [
    "print(s)"
   ]
  },
  {
   "cell_type": "code",
   "execution_count": 5,
   "id": "262b265b-5648-4fbe-8bb7-190a44f1d2ae",
   "metadata": {},
   "outputs": [
    {
     "data": {
      "text/plain": [
       "<matplotlib.image.AxesImage at 0x7f016214f9d0>"
      ]
     },
     "execution_count": 5,
     "metadata": {},
     "output_type": "execute_result"
    },
    {
     "data": {
      "image/png": "[encoded data removed]",
      "text/plain": [
       "<Figure size 640x480 with 1 Axes>"
      ]
     },
     "metadata": {},
     "output_type": "display_data"
    }
   ],
   "source": [
    "import matplotlib.pyplot as plt\n",
    "plt.imshow(cartpole.render())"
   ]
  },
  {
   "cell_type": "code",
   "execution_count": 6,
   "id": "5b1526ba-59f6-4011-acec-f82a93b256fe",
   "metadata": {},
   "outputs": [
    {
     "name": "stderr",
     "output_type": "stream",
     "text": [
      "/home/emmanuel/anaconda3/lib/python3.9/site-packages/gymnasium/core.py:311: UserWarning: \u001b[33mWARN: env.single_observation_space to get variables from other wrappers is deprecated and will be removed in v1.0, to get this variable you can do `env.unwrapped.single_observation_space` for environment variables or `env.get_wrapper_attr('single_observation_space')` that will search the reminding wrappers.\u001b[0m\n",
      "  logger.warn(\n"
     ]
    },
    {
     "ename": "AttributeError",
     "evalue": "'InvertedPendulumEnv' object has no attribute 'single_observation_space'",
     "output_type": "error",
     "traceback": [
      "\u001b[0;31m---------------------------------------------------------------------------\u001b[0m",
      "\u001b[0;31mAttributeError\u001b[0m                            Traceback (most recent call last)",
      "Cell \u001b[0;32mIn[6], line 1\u001b[0m\n\u001b[0;32m----> 1\u001b[0m \u001b[43mcartpole\u001b[49m\u001b[38;5;241;43m.\u001b[39;49m\u001b[43msingle_observation_space\u001b[49m\n",
      "File \u001b[0;32m~/anaconda3/lib/python3.9/site-packages/gymnasium/core.py:315\u001b[0m, in \u001b[0;36mWrapper.__getattr__\u001b[0;34m(self, name)\u001b[0m\n\u001b[1;32m    310\u001b[0m     \u001b[38;5;28;01mraise\u001b[39;00m \u001b[38;5;167;01mAttributeError\u001b[39;00m(\u001b[38;5;124mf\u001b[39m\u001b[38;5;124m\"\u001b[39m\u001b[38;5;124maccessing private attribute \u001b[39m\u001b[38;5;124m'\u001b[39m\u001b[38;5;132;01m{\u001b[39;00mname\u001b[38;5;132;01m}\u001b[39;00m\u001b[38;5;124m'\u001b[39m\u001b[38;5;124m is prohibited\u001b[39m\u001b[38;5;124m\"\u001b[39m)\n\u001b[1;32m    311\u001b[0m logger\u001b[38;5;241m.\u001b[39mwarn(\n\u001b[1;32m    312\u001b[0m     \u001b[38;5;124mf\u001b[39m\u001b[38;5;124m\"\u001b[39m\u001b[38;5;124menv.\u001b[39m\u001b[38;5;132;01m{\u001b[39;00mname\u001b[38;5;132;01m}\u001b[39;00m\u001b[38;5;124m to get variables from other wrappers is deprecated and will be removed in v1.0, \u001b[39m\u001b[38;5;124m\"\u001b[39m\n\u001b[1;32m    313\u001b[0m     \u001b[38;5;124mf\u001b[39m\u001b[38;5;124m\"\u001b[39m\u001b[38;5;124mto get this variable you can do `env.unwrapped.\u001b[39m\u001b[38;5;132;01m{\u001b[39;00mname\u001b[38;5;132;01m}\u001b[39;00m\u001b[38;5;124m` for environment variables or `env.get_wrapper_attr(\u001b[39m\u001b[38;5;124m'\u001b[39m\u001b[38;5;132;01m{\u001b[39;00mname\u001b[38;5;132;01m}\u001b[39;00m\u001b[38;5;124m'\u001b[39m\u001b[38;5;124m)` that will search the reminding wrappers.\u001b[39m\u001b[38;5;124m\"\u001b[39m\n\u001b[1;32m    314\u001b[0m )\n\u001b[0;32m--> 315\u001b[0m \u001b[38;5;28;01mreturn\u001b[39;00m \u001b[38;5;28;43mgetattr\u001b[39;49m\u001b[43m(\u001b[49m\u001b[38;5;28;43mself\u001b[39;49m\u001b[38;5;241;43m.\u001b[39;49m\u001b[43menv\u001b[49m\u001b[43m,\u001b[49m\u001b[43m \u001b[49m\u001b[43mname\u001b[49m\u001b[43m)\u001b[49m\n",
      "File \u001b[0;32m~/anaconda3/lib/python3.9/site-packages/gymnasium/core.py:315\u001b[0m, in \u001b[0;36mWrapper.__getattr__\u001b[0;34m(self, name)\u001b[0m\n\u001b[1;32m    310\u001b[0m     \u001b[38;5;28;01mraise\u001b[39;00m \u001b[38;5;167;01mAttributeError\u001b[39;00m(\u001b[38;5;124mf\u001b[39m\u001b[38;5;124m\"\u001b[39m\u001b[38;5;124maccessing private attribute \u001b[39m\u001b[38;5;124m'\u001b[39m\u001b[38;5;132;01m{\u001b[39;00mname\u001b[38;5;132;01m}\u001b[39;00m\u001b[38;5;124m'\u001b[39m\u001b[38;5;124m is prohibited\u001b[39m\u001b[38;5;124m\"\u001b[39m)\n\u001b[1;32m    311\u001b[0m logger\u001b[38;5;241m.\u001b[39mwarn(\n\u001b[1;32m    312\u001b[0m     \u001b[38;5;124mf\u001b[39m\u001b[38;5;124m\"\u001b[39m\u001b[38;5;124menv.\u001b[39m\u001b[38;5;132;01m{\u001b[39;00mname\u001b[38;5;132;01m}\u001b[39;00m\u001b[38;5;124m to get variables from other wrappers is deprecated and will be removed in v1.0, \u001b[39m\u001b[38;5;124m\"\u001b[39m\n\u001b[1;32m    313\u001b[0m     \u001b[38;5;124mf\u001b[39m\u001b[38;5;124m\"\u001b[39m\u001b[38;5;124mto get this variable you can do `env.unwrapped.\u001b[39m\u001b[38;5;132;01m{\u001b[39;00mname\u001b[38;5;132;01m}\u001b[39;00m\u001b[38;5;124m` for environment variables or `env.get_wrapper_attr(\u001b[39m\u001b[38;5;124m'\u001b[39m\u001b[38;5;132;01m{\u001b[39;00mname\u001b[38;5;132;01m}\u001b[39;00m\u001b[38;5;124m'\u001b[39m\u001b[38;5;124m)` that will search the reminding wrappers.\u001b[39m\u001b[38;5;124m\"\u001b[39m\n\u001b[1;32m    314\u001b[0m )\n\u001b[0;32m--> 315\u001b[0m \u001b[38;5;28;01mreturn\u001b[39;00m \u001b[38;5;28;43mgetattr\u001b[39;49m\u001b[43m(\u001b[49m\u001b[38;5;28;43mself\u001b[39;49m\u001b[38;5;241;43m.\u001b[39;49m\u001b[43menv\u001b[49m\u001b[43m,\u001b[49m\u001b[43m \u001b[49m\u001b[43mname\u001b[49m\u001b[43m)\u001b[49m\n",
      "File \u001b[0;32m~/anaconda3/lib/python3.9/site-packages/gymnasium/core.py:315\u001b[0m, in \u001b[0;36mWrapper.__getattr__\u001b[0;34m(self, name)\u001b[0m\n\u001b[1;32m    310\u001b[0m     \u001b[38;5;28;01mraise\u001b[39;00m \u001b[38;5;167;01mAttributeError\u001b[39;00m(\u001b[38;5;124mf\u001b[39m\u001b[38;5;124m\"\u001b[39m\u001b[38;5;124maccessing private attribute \u001b[39m\u001b[38;5;124m'\u001b[39m\u001b[38;5;132;01m{\u001b[39;00mname\u001b[38;5;132;01m}\u001b[39;00m\u001b[38;5;124m'\u001b[39m\u001b[38;5;124m is prohibited\u001b[39m\u001b[38;5;124m\"\u001b[39m)\n\u001b[1;32m    311\u001b[0m logger\u001b[38;5;241m.\u001b[39mwarn(\n\u001b[1;32m    312\u001b[0m     \u001b[38;5;124mf\u001b[39m\u001b[38;5;124m\"\u001b[39m\u001b[38;5;124menv.\u001b[39m\u001b[38;5;132;01m{\u001b[39;00mname\u001b[38;5;132;01m}\u001b[39;00m\u001b[38;5;124m to get variables from other wrappers is deprecated and will be removed in v1.0, \u001b[39m\u001b[38;5;124m\"\u001b[39m\n\u001b[1;32m    313\u001b[0m     \u001b[38;5;124mf\u001b[39m\u001b[38;5;124m\"\u001b[39m\u001b[38;5;124mto get this variable you can do `env.unwrapped.\u001b[39m\u001b[38;5;132;01m{\u001b[39;00mname\u001b[38;5;132;01m}\u001b[39;00m\u001b[38;5;124m` for environment variables or `env.get_wrapper_attr(\u001b[39m\u001b[38;5;124m'\u001b[39m\u001b[38;5;132;01m{\u001b[39;00mname\u001b[38;5;132;01m}\u001b[39;00m\u001b[38;5;124m'\u001b[39m\u001b[38;5;124m)` that will search the reminding wrappers.\u001b[39m\u001b[38;5;124m\"\u001b[39m\n\u001b[1;32m    314\u001b[0m )\n\u001b[0;32m--> 315\u001b[0m \u001b[38;5;28;01mreturn\u001b[39;00m \u001b[38;5;28;43mgetattr\u001b[39;49m\u001b[43m(\u001b[49m\u001b[38;5;28;43mself\u001b[39;49m\u001b[38;5;241;43m.\u001b[39;49m\u001b[43menv\u001b[49m\u001b[43m,\u001b[49m\u001b[43m \u001b[49m\u001b[43mname\u001b[49m\u001b[43m)\u001b[49m\n",
      "\u001b[0;31mAttributeError\u001b[0m: 'InvertedPendulumEnv' object has no attribute 'single_observation_space'"
     ]
    }
   ],
   "source": [
    "cartpole.single_observation_space"
   ]
  },
  {
   "cell_type": "code",
   "execution_count": 26,
   "id": "dc7db276-2e73-4a21-a042-89d89e4c8657",
   "metadata": {},
   "outputs": [],
   "source": [
    "bw = gym.make(\"BipedalWalker-v3\", render_mode=\"human\")"
   ]
  },
  {
   "cell_type": "code",
   "execution_count": 27,
   "id": "91ed16c7-acb0-4bed-a224-0ad300186767",
   "metadata": {},
   "outputs": [],
   "source": [
    "s,_ = bw.reset()\n",
    "bw.render()\n",
    "for _ in range(200):\n",
    "    s,r,d,tr,_ = bw.step(bw.action_space.sample())\n",
    "    bw.render()\n",
    "    if d or tr:\n",
    "        s,_ = bw.reset()\n",
    "        bw.render()\n"
   ]
  },
  {
   "cell_type": "code",
   "execution_count": 28,
   "id": "c88b189d-ce29-46bd-93bb-ec9cd88220e4",
   "metadata": {},
   "outputs": [],
   "source": [
    "bw.close()"
   ]
  },
  {
   "cell_type": "code",
   "execution_count": 32,
   "id": "c3541296-2455-44eb-91ca-04b777544a21",
   "metadata": {},
   "outputs": [
    {
     "name": "stdout",
     "output_type": "stream",
     "text": [
      "Box([-3.1415927 -5.        -5.        -5.        -3.1415927 -5.\n",
      " -3.1415927 -5.        -0.        -3.1415927 -5.        -3.1415927\n",
      " -5.        -0.        -1.        -1.        -1.        -1.\n",
      " -1.        -1.        -1.        -1.        -1.        -1.       ], [3.1415927 5.        5.        5.        3.1415927 5.        3.1415927\n",
      " 5.        5.        3.1415927 5.        3.1415927 5.        5.\n",
      " 1.        1.        1.        1.        1.        1.        1.\n",
      " 1.        1.        1.       ], (24,), float32)\n",
      "Box(-1.0, 1.0, (4,), float32)\n"
     ]
    }
   ],
   "source": [
    "bw = gym.make(\"BipedalWalker-v3\", render_mode=\"rgb_array\")\n",
    "print(bw.observation_space)\n",
    "print(bw.action_space)"
   ]
  },
  {
   "cell_type": "markdown",
   "id": "91e25f07-942f-4113-aa7e-138c3da98a5b",
   "metadata": {},
   "source": [
    "# Deep deterministic policy gradients"
   ]
  },
  {
   "cell_type": "markdown",
   "id": "6a98bc58-c921-4f0b-8f51-f72e97580156",
   "metadata": {},
   "source": [
    "## The deterministic policy gradient theorem\n",
    "\n",
    "Let us, once again, restart from approximate value iteration (AVI) as a sequence of risk minimization problems.\n",
    "\n",
    "<div class=\"alert alert-success\">\n",
    "\n",
    "**Approximate value iteration as a sequence of risk minimization problems**  \n",
    "$$\\pi_n \\in \\mathcal{G} Q_n,$$\n",
    "$$L_n(\\theta) = \\frac{1}{2} \\mathbb{E}_{(s,a) \\sim \\rho}\\left[ \\left( Q(s,a;\\theta) - G^{\\pi_n}_1(s,a,Q_n) \\right)^2 \\right],$$\n",
    "$$\\theta_{n+1} \\in \\arg\\min_{\\theta} L_n(\\theta),$$\n",
    "$$Q_{n+1}(s,a) = Q(s,a;\\theta_{n+1}).$$\n",
    "</div>\n",
    "\n",
    "For deterministic policies, we have\n",
    "$$\\pi \\in \\mathcal{G} Q, \\Leftrightarrow \\pi(s) \\in \\arg\\max_{a \\in A} \\left[Q(s,a)\\right], \\forall s\\in S.$$"
   ]
  },
  {
   "cell_type": "markdown",
   "id": "aec74947-21b7-4157-a1cc-4e0f8a65834e",
   "metadata": {},
   "source": [
    "Finding $\\pi \\in \\mathcal{G}Q$ was relatively easy as long as there were few, discrete actions. But when actions are continuous, solving a $\\max_a$ problem is a continuous optimization problem on which we have little knowledge.\n",
    "\n",
    "Let us turn to what we called \"weak optimality\" in a previous chapter, that is, given a distribution $\\rho_0(s)$ on starting states, the search for a policy that maximizes $J(\\pi) = \\mathbb{E}_{s\\sim \\rho_0} [V^\\pi(s)]$. As indicated in previous chapters, finding a policy which maximizes this *average value across states* is not necessarily the same as finding a policy which *dominates any other policy in every state*. But in most practical cases, $J(\\pi)$ is a very reasonable and interesting proxy for optimality.\n",
    "\n",
    "Recall that $V^\\pi(s) = Q^\\pi(s,\\pi(s))$. \n",
    "So, for a given function $Q$, instead of looking for $\\pi(s) \\in \\arg\\max_{a \\in A} \\left[Q(s,a)\\right], \\forall s\\in S$, we can redefine *greediness* and look for \n",
    "$$\\pi \\in \\arg\\max_{a \\in A} \\mathbb{E}_{s\\sim \\rho_0} [Q(s,\\pi(s))] = J_Q(\\pi).$$\n",
    "If $Q=Q^*$, then a maximizer of this quantity is a maximizer of $J(\\pi)$."
   ]
  },
  {
   "cell_type": "markdown",
   "id": "a2c5b609-b6ea-4295-b866-e9979d7b192f",
   "metadata": {},
   "source": [
    "Now if $\\pi$ is a parameterized function $\\pi_w$, then one can try to approximate $\\pi_n \\in \\mathcal{G}Q_n$ by taking gradient steps on $J_{Q_n}(\\pi_w)$. This is the key idea behind deterministic policy gradient algorithms.\n",
    "\n",
    "It relies on the deterministic policy gradient theorem, introduced by Silver at al (2014)in the **[Deterministic Policy Gradient Algorithms](https://proceedings.mlr.press/v32/silver14.html)** paper.\n",
    "\n",
    "Let us write $J(w) = J(\\pi_w)$ for a parametric policy $\\pi_w$.  \n",
    "Write also $\\rho^{\\pi_w}(s) = \\sum\\limits_{t = 0}^\\infty \\gamma^t p(S_t=s|\\rho_0,\\pi_w)$ for all $s \\in S$ the state occupancy measure of $\\pi_w$ given $\\rho_0$.\n",
    "\n",
    "<div class=\"alert alert-success\">\n",
    "\n",
    "**Deterministic policy gradient theorem**  \n",
    "Consider a deterministic policy $\\pi_w: S\\rightarrow A$ interacting with an MDP $S, A, p, r)$ with a starting state distribution $\\rho_0$.  \n",
    "We will drop the $w$ subscripts wherever unambiguous, to improve readability.    \n",
    "If $p(s,a)$, $\\nabla_a p(s'|s,a)$, $r(s,a)$, $\\nabla_a r(s,a)$, $\\rho_0(s)$, $\\pi_w(s)$, and $\\nabla_w\\pi_w(s)$ all exist and are continuous in $(s,a,s')$, then \n",
    "$$\\nabla_w J(w) = \\mathbb{E}_{s\\sim \\rho^{\\pi}} \\left[ \\nabla_a Q^{\\pi}(s,a)|_{a=\\pi(s)} \\cdot \\nabla_w \\pi_w(s) \\right].$$\n",
    "</div>"
   ]
  },
  {
   "cell_type": "markdown",
   "id": "1bbd25f9-fe47-4ac2-8599-8a82a4f74e12",
   "metadata": {},
   "source": [
    "Note that $\\nabla_w \\pi_w(s)$ is a Jacobian matrix where each column is the derivative of an action variable with respect to the parameters $w$.\n",
    "\n",
    "Rewriting this theorem with partial derivatives, we have:\n",
    "$$\\nabla_w J(w) = \\mathbb{E}_{s\\sim \\rho^{\\pi}} \\left[ \\frac{\\partial Q^{\\pi}(s,a)}{\\partial a}(s,\\pi(s)) \\cdot \\frac{\\partial \\pi(s)}{\\partial w}(s) \\right].$$\n",
    "\n",
    "This theorem looks like the chain rule applied to $J(\\pi_w)$ but it's actually a bit more than that.\n",
    "\n",
    "Let us write $J(w)=J(\\pi_w)$ again.\n",
    "\\begin{align*}\n",
    "J(w) &= \\mathbb{E}_{s\\sim \\rho_0} [V^{\\pi_w}(s)]\\\\\n",
    " &= \\mathbb{E}_{s\\sim \\rho_0} [Q^{\\pi_w}(s,\\pi_w(s))]\n",
    "\\end{align*}\n",
    "\n",
    "Let us take the gradient of this term with respect to $w$.\n",
    "$$\\nabla_w J(w) = \\mathbb{E}_{s\\sim \\rho_0} \\left[ \\frac{\\partial Q^{\\pi_w}(s,\\pi_w(s))}{\\partial w} \\right].$$\n",
    "\n",
    "If we had had a fixed $Q$ instead of $Q^{\\pi_w}$ in the expression above, we could have used the chain rule and we could have written:\n",
    "$$\\frac{\\partial Q(s,\\pi_w(s))}{\\partial w}  = \\frac{\\partial Q(s,a)}{\\partial a}|_{a=\\pi_w(s)} \\frac{\\partial \\pi_w(s)}{\\partial w}(s).$$\n",
    "\n",
    "But we don't have a fixed $Q$, and as soon as $w$ changes infinitesimally, $Q^{\\pi_w}$ changes too, so this chain rule is not so straightforward.\n",
    "\n",
    "The full proof of the deterministic policy gradient theorem is in the appendix of the aforementionned paper and we will not recall it here. In short, the derivation implies unfolding the sum over times steps of reward random variables in $Q^\\pi$, which leads to the introduction of $\\rho^\\pi$.  "
   ]
  },
  {
   "cell_type": "markdown",
   "id": "ed80762d-e6e0-4253-8350-d24f6672e7d7",
   "metadata": {},
   "source": [
    "Instead, we will try to provide intuition as to why this gradient ascent direction makes sense in an AVI context."
   ]
  },
  {
   "cell_type": "code",
   "execution_count": null,
   "id": "54b635b7-11e6-4310-aec7-e8ff8f0364b1",
   "metadata": {},
   "outputs": [],
   "source": [
    "import torch\n",
    "import torch.nn as nn\n",
    "import torch.nn.functional as F\n",
    "\n",
    "class QNetwork(nn.Module):\n",
    "    def __init__(self, state_dim, action_dim):\n",
    "        super().__init__()\n",
    "        self.fc1 = nn.Linear(state_dim + action_dim, 256)\n",
    "        self.fc2 = nn.Linear(256, 256)\n",
    "        self.fc3 = nn.Linear(256, 1)\n",
    "    def forward(self, x, a):\n",
    "        x = torch.cat([x, a], 1)\n",
    "        x = F.relu(self.fc1(x))\n",
    "        x = F.relu(self.fc2(x))\n",
    "        x = self.fc3(x)\n",
    "        return x"
   ]
  },
  {
   "cell_type": "markdown",
   "id": "02ab9635-3cb1-4f00-8720-384022b4e329",
   "metadata": {},
   "source": [
    "TODO: change names for action scale and action bias maybe?"
   ]
  },
  {
   "cell_type": "code",
   "execution_count": null,
   "id": "de7712de-b4b8-47cf-907b-f2622ced47be",
   "metadata": {},
   "outputs": [],
   "source": [
    "import torch\n",
    "import torch.nn as nn\n",
    "\n",
    "class Actor(nn.Module):\n",
    "    def __init__(self, state_dim, action_dim):\n",
    "        super().__init__()\n",
    "        self.fc1 = nn.Linear(state_dim, 256)\n",
    "        self.fc2 = nn.Linear(256, 256)\n",
    "        self.fc_mu = nn.Linear(256, action_dim)\n",
    "        # action rescaling\n",
    "        self.register_buffer(\n",
    "            \"action_scale\", torch.tensor((env.action_space.high - env.action_space.low) / 2.0, dtype=torch.float32)\n",
    "        )\n",
    "        self.register_buffer(\n",
    "            \"action_bias\", torch.tensor((env.action_space.high + env.action_space.low) / 2.0, dtype=torch.float32)\n",
    "        )\n",
    "\n",
    "    def forward(self, x):\n",
    "        x = F.relu(self.fc1(x))\n",
    "        x = F.relu(self.fc2(x))\n",
    "        x = torch.tanh(self.fc_mu(x))\n",
    "        return x * self.action_scale + self.action_bias"
   ]
  },
  {
   "cell_type": "code",
   "execution_count": null,
   "id": "74a51215-0775-4153-a0a4-07d43779ea2a",
   "metadata": {},
   "outputs": [],
   "source": [
    "device = torch.device(\"cuda\" if torch.cuda.is_available() and args.cuda else \"cpu\")"
   ]
  },
  {
   "cell_type": "code",
   "execution_count": null,
   "id": "7c19c216-ab7a-461d-9eae-84d460edbae3",
   "metadata": {},
   "outputs": [],
   "source": [
    "env = gym.make(\"BipedalWalker-v3\", render_mode=\"rgb_array\")\n",
    "config = \n",
    "rb = \n",
    "\n",
    "state_dim = env.observation_space.shape[0]\n",
    "action_dim = env.action_space.shape[0]\n",
    "\n",
    "qf1 = QNetwork(state_dim,action_dim).to(device)\n",
    "qf1_target = QNetwork(state_dim,action_dim).to(device)\n",
    "qf1_target.load_state_dict(qf1.state_dict())\n",
    "\n",
    "actor = Actor(state_dim,action_dim).to(device)\n",
    "target_actor = Actor(state_dim,action_dim).to(device)\n",
    "target_actor.load_state_dict(actor.state_dict())\n",
    "\n",
    "q_optimizer = optim.Adam(list(qf1.parameters()), lr=config.learning_rate)\n",
    "actor_optimizer = optim.Adam(list(actor.parameters()), lr=config.learning_rate)\n",
    "\n",
    "# step (policy + noise), add to rb\n",
    "\n",
    "# if done, print episode info\n",
    "\n",
    "s = s2"
   ]
  }
 ],
 "metadata": {
  "kernelspec": {
   "display_name": "Python 3 (ipykernel)",
   "language": "python",
   "name": "python3"
  },
  "language_info": {
   "codemirror_mode": {
    "name": "ipython",
    "version": 3
   },
   "file_extension": ".py",
   "mimetype": "text/x-python",
   "name": "python",
   "nbconvert_exporter": "python",
   "pygments_lexer": "ipython3",
   "version": "3.9.18"
  }
 },
 "nbformat": 4,
 "nbformat_minor": 5
}
