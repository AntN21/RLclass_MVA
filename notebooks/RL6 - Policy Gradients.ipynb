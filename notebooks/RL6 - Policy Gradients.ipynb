{
 "cells": [
  {
   "cell_type": "markdown",
   "id": "af2c7eac-fbff-48e4-abd3-f0fbc8aee546",
   "metadata": {},
   "source": [
    "<a rel=\"license\" href=\"http://creativecommons.org/licenses/by-nc-sa/4.0/\"><img alt=\"Creative Commons License\" align=\"left\" src=\"https://i.creativecommons.org/l/by-nc-sa/4.0/80x15.png\" /></a>&nbsp;| [Emmanuel Rachelson](https://personnel.isae-supaero.fr/emmanuel-rachelson?lang=en) | <a href=\"https://erachelson.github.io/RLclass_MVA/\">https://erachelson.github.io/RLclass_MVA/</a>"
   ]
  },
  {
   "cell_type": "markdown",
   "id": "887122ef-64e7-42f7-b83e-a684377dede3",
   "metadata": {},
   "source": [
    "<div style=\"font-size:22pt; line-height:25pt; font-weight:bold; text-align:center;\">Chapter 5: Policy gradient algorithms</div>"
   ]
  },
  {
   "cell_type": "markdown",
   "id": "f6bf06b7-7e7f-4587-ae8d-656436cc4c15",
   "metadata": {},
   "source": [
    "In this chapter we first depart from the (approximate) dynamic programming framework we have worked with so far. We turn back to a criterion for optimality we introduced in the first chapters, namely the average value of a policy across (starting) states. We explore the question of writing the gradient of this criterion with respect to policy parameters, which leads us to the very important policy gradient theorem and the family of policy gradient algorithms."
   ]
  },
  {
   "cell_type": "markdown",
   "id": "6a3d20f8-d89f-456e-980a-b1a9f2653a42",
   "metadata": {},
   "source": [
    "<div class=\"alert alert-success\">\n",
    "\n",
    "**Learning outcomes**   \n",
    "By the end of this chapter, you should be able to:\n",
    "- recall and explain the policy gradient theorem\n",
    "</div>"
   ]
  },
  {
   "cell_type": "markdown",
   "id": "5ef23551-84d1-4df8-9ca1-922446e7f5ba",
   "metadata": {},
   "source": [
    "# Policy gradient methods\n",
    "\n",
    "<div class=\"alert alert-success\">\n",
    "\n",
    "**Bottomline question:**   \n",
    "The previous chapters have focussed on *action-value methods*; they aimed at estimating $Q^*$ in order to deduce $\\pi^*$, or they jointly optimized $Q$ and $\\pi$. Could we directly optimize $\\pi$?\n",
    "</div>\n",
    "\n",
    "Suppose we have a policy $\\pi_\\theta$ parameterized by a vector $\\theta$. Our goal is to find the parameter $\\theta^*$ corresponding to $\\pi^*$.\n",
    "\n",
    "Remarks:\n",
    "- $\\pi_\\theta$ might not be able to represent $\\pi^*$. We will take a shortcut and call $\\pi^*$ the best policy among the $\\pi_\\theta$ ones.\n",
    "- For discrete state and action spaces, the tabular policy representation is a special case of policy parameterization.\n",
    "- Policy parameterization is a (possibly useful) way of introducing prior knowledge on the set of the desired policies.\n",
    "- The optimal deterministic policies might not belong to the policy subspace of $\\pi_\\theta$, thus it makes sense to consider stochastic policies for $\\pi_\\theta$.\n",
    "- It makes even more sense to consider stochastic policies that it opens the family of environments that we can tackle, like partially observable MDPs or multi-player games.\n",
    "\n",
    "For stochastic policies, we shall write $\\pi_\\theta(a|s)$.\n",
    "\n",
    "In the remainder of the chapter, we will assume that $\\pi_\\theta$ is differentiable with respect to $\\theta$.\n",
    "\n",
    "Suppose now we define some performance metric $J(\\pi_\\theta) = J(\\theta)$. If $J$ is differentiable and a stochastic estimate $\\tilde{\\nabla}_\\theta J(\\theta)$ of the gradient is available, then we can define the stochastic gradient ascent update procedure:\n",
    "$$\\theta \\leftarrow \\theta + \\alpha \\tilde{\\nabla}_\\theta J(\\theta).$$\n",
    "\n",
    "We will call **policy gradient methods** all methods that follow such a procedure (whether or not they also learn a value function or not).\n",
    "\n",
    "<div class=\"alert alert-success\">\n",
    "\n",
    "**Polcy gradient method**   \n",
    "We call **policy gradient method** any methods that performs stochastic gradient ascent on the policy's parameters.  \n",
    "Given a stochastic estimate $\\tilde{\\nabla}_\\theta J(\\theta)$ of a policy's performance criterion with respect to the policy's parameters, such a method implements the update procedure: \n",
    "$$\\theta \\leftarrow \\theta + \\alpha \\tilde{\\nabla}_\\theta J(\\theta).$$\n",
    "</div>\n",
    "\n",
    "Remarks: \n",
    "- Note that $J$ is a generic criterion. For example, $J$ could be defined as the $\\gamma$-discounted value of a starting state (or a distribution of starting states), or as the undiscounted reward over a certain horizon, or as the average reward.\n",
    "- Note that this family of methods can use any gradient estimate for $\\tilde{\\nabla}_\\theta J(\\theta)$: formal calculus, finite differences, automated differentiation, evolutionary strategies, etc.\n",
    "- Why is it interesting to look at policy gradient methods? Because for continuous actions there is no maximization step ($\\max_a Q(s,a)$) during evaluation but only a call to $\\pi_\\theta(s)$ (or a draw from $\\pi_\\theta(a|s)$). This makes Policy Gradient a method of choice for continuous actions domains (especially common in Robotics).\n",
    "- When do policy gradient approaches outperform value-based ones? It's hard to give a precise criterion; it really depends on the problem. One thing that comes into play is how easy it is to approximate the optimal policy or the optimal value function. If one is simpler than the other (by \"simpler\", we mean \"it is easier to find a parameterization whose spanned function space almost includes the function to approximate\"), then it is a good heuristic to try to approximate it. But this criterion might itself be hard to assess.\n"
   ]
  },
  {
   "cell_type": "markdown",
   "id": "7792df89-be43-455d-af32-2052d1bd8f15",
   "metadata": {},
   "source": [
    "**Notations**\n",
    "\n",
    "- We consider probability density functions $p(X)$ for all random variables $X$.\n",
    "- For a policy $\\pi_\\theta$ and a random variable $X$ we write indifferently $p(X|\\pi_\\theta) = p(X|\\theta)$.\n",
    "- A trajectory is noted $\\tau = (s_t,a_t)_{t\\in \\mathbb{N}}$.\n",
    "- The state random variable at step $t$ is $S_t$ and its law's density is $p_t(s)$.\n",
    "- The action random variable at step $t$ is $A_t$."
   ]
  },
  {
   "cell_type": "markdown",
   "id": "96beae82-90be-4b77-85e5-21a43733629e",
   "metadata": {},
   "source": [
    "# The policy gradient theorem\n",
    "\n",
    "## Reminder on the policy optimization objective\n",
    "\n",
    "Recal the policy optimization objective defined in previous chapters, given a distribution $p_0$ on states:  \n",
    "$$J(\\pi) = \\mathbb{E}_{s \\sim p_0} \\left[ V^{\\pi} (s) \\right].$$\n",
    "Or equivalently:  \n",
    "$$J(\\pi) = \\mathbb{E}_{(s_i,a_i)_{i \\in \\mathbb{N}}} \\left[ \\sum_{t=0}^\\infty \\gamma^t r(s_t,a_t)  | \\pi, p_0 \\right].$$\n",
    "Since $p_0$ is supposed known and fixed, we will omit it in the rest of this chapter for the sake of readability.  \n",
    "We can switch the sum and the expectation and get:  \n",
    "$$J(\\pi) = \\sum_{t=0}^\\infty \\gamma^t \\mathbb{E}_{(s_i,a_i)_{i \\in \\mathbb{N}}} \\left[ r(s_t,a_t)  | \\pi \\right].$$\n",
    "But $\\mathbb{E}_{(s_i,a_i)_{i \\in \\mathbb{N}}} \\left[ r(s_t,a_t)  | \\pi \\right] = \\mathbb{E}_{s_t,a_t} \\left[ r(s_t,a_t)  | \\pi \\right]$. So:\n",
    "$$J(\\pi) = \\sum_{t=0}^\\infty \\gamma^t \\mathbb{E}_{s_t,a_t} \\left[ r(s_t,a_t)  | \\pi \\right].$$\n",
    "Now let's introduce the density of $(s_t,a_t)$:\n",
    "$$J(\\pi) = \\sum_{t=0}^\\infty \\gamma^t \\int_S \\int_A r(s_t,a_t) p(s_t,a_t|\\pi) ds_t da_t.$$\n",
    "But $p(s_t,a_t|\\pi) = p(s_t|\\pi) p(a_t|s_t,\\pi)$. By definition, $p(s_t|\\pi) = p_t(s|\\pi)$ and $p(a_t=a|s_t=s,\\pi) = \\pi(a|s)$. So:\n",
    "$$J(\\pi) = \\sum_{t=0}^\\infty \\gamma^t \\int_S \\int_A r(s,a) p_t(s|\\pi) \\pi(a|s) ds da.$$\n",
    "Let us isolate the terms that concern only states:\n",
    "$$J(\\pi) = \\int_S \\left[ \\int_A r(s,a) \\pi(a|s) da \\right] \\sum_{t=0}^\\infty \\gamma^t p_t(s|\\pi) ds.$$\n",
    "Let's note $\\rho^\\pi(s) = \\sum_{t=0}^\\infty \\gamma^t p_t(s|\\pi)$. We have encountered this quantity in previous chapters and called it the *state occupancy measure under policy $\\pi$ and starting distribution $p_0$*. It is not a proper distribution per se (it sums to $\\frac{1}{1-\\gamma}$), and is sometimes also called the *improper state distribution under policy $\\pi$* or the *improper state visitation frequency under policy $\\pi$*. Then we have:\n",
    "$$J(\\pi) = \\int_S \\left[ \\int_A r(s,a) \\pi (a|s) da \\right] \\rho^\\pi(s) ds.$$\n",
    "And so finally, with a slight notation abuse because $\\rho^\\pi$ is not a probability distribution:\n",
    "$$J(\\theta) = \\mathbb{E}_{\\substack{s\\sim\\rho^\\pi \\\\ a\\sim \\pi}} \\left[ r(s,a) \\right].$$\n",
    "\n",
    "In plain words, the value of a policy $\\pi$ is the average value of the rewards when states are sampled according to $\\rho^\\pi$ and actions are sampled according to $\\pi$."
   ]
  },
  {
   "cell_type": "markdown",
   "id": "150c60fd-7697-4aee-9e2d-db8b90616e2c",
   "metadata": {},
   "source": [
    "## The policy gradient theorem\n",
    "\n",
    "The crucial problem of computing $\\nabla_\\theta J(\\theta)$ lies in the fact that when $\\theta$ changes, both $\\pi$ and $\\rho^\\pi$ change jointly. So there seems to be no straighforward way of evaluating this gradient. One could fall back to a *finite differences* approach to estimating this gradient, but this would require trying out a series of increments $\\Delta \\theta$ which quickly becomes impractical (because the increment size is hard to tune, especially in stochastic systems, and also because of the sample inefficiency of the approach).\n",
    "\n",
    "Remark:\n",
    "- Let's not discard finite difference methods too quickly. They have their merits and showed great successes through methods such as [PEGASUS (Ng and Jordan, 2000)](https://arxiv.org/abs/1301.3878). Also, having random $\\Delta \\theta$ drawn from a Gaussian distribution is essentially what Evolution Strategies do, and [Salimans et al. (2017)](https://arxiv.org/abs/1703.03864) or [Chrabaszcz et al. (2018)](https://arxiv.org/abs/1802.08842) illustrated how that could be a scalable method to obtain gradient estimates in RL. We won't cover these topics here and leave them as exercises.  \n",
    "\n",
    "The key result of this chapter is that one can express the gradient of $J(\\theta)$ as directly proportional to the value of $Q^\\pi$ and the gradient of $\\pi$:\n",
    "<div class=\"alert alert-success\">\n",
    "\n",
    "**Policy gradient theorem:**  \n",
    "$$\\nabla_\\theta J(\\theta) \\propto \\mathbb{E}_{\\substack{s\\sim\\rho^\\pi \\\\ a\\sim \\pi}} \\left[ Q^\\pi(s,a) \\nabla_\\theta \\log\\pi(a|s)\\right]$$\n",
    "</div>"
   ]
  },
  {
   "cell_type": "markdown",
   "id": "4fed3fb7-e06c-48f4-afbc-717c92935251",
   "metadata": {},
   "source": [
    "The proof of this result is simple but a bit tedious. We can however give the general intuition. Let's consider trajectories $\\tau = (s_0,a_0,r_0,...)$ drawn according to $\\pi$ from the starting state. Each of these trajectories has an overall payoff of $G(\\tau) = \\sum_t \\gamma^t r_t$, and is drawn with probability density $p(\\tau|\\theta)$. Then the objective function can be written:\n",
    "\\begin{align}\n",
    "J(\\theta) &= \\mathbb{E}_\\tau \\left[ G(\\tau) | \\theta \\right]\\\\\n",
    " &= \\int G(\\tau) p(\\tau | \\theta) d\\tau\n",
    "\\end{align}\n",
    "\n",
    "So the objective function's gradient is:\n",
    "\\begin{align}\n",
    "\\nabla_\\theta J(\\theta) &= \\nabla_\\theta \\int G(\\tau) p(\\tau|\\theta) d\\tau,\\\\\n",
    " &= \\int G(\\tau) \\nabla_\\theta p(\\tau|\\theta) d\\tau,\\\\\n",
    " &= \\int G(\\tau) p(\\tau|\\theta) \\frac{\\nabla_\\theta p(\\tau|\\theta)}{p(\\tau|\\theta)} d\\tau,\\\\\n",
    " &= \\mathbb{E}_\\tau \\left[ G(\\tau) \\nabla_\\theta \\log p(\\tau|\\theta) \\right].\n",
    "\\end{align}"
   ]
  },
  {
   "cell_type": "markdown",
   "id": "9992e3d5-bc45-4830-b54a-0463d38fae9d",
   "metadata": {},
   "source": [
    "We have used the fact that $\\nabla_\\theta p(\\tau|\\theta) = p(\\tau|\\theta) \\nabla_\\theta \\log p(\\tau|\\theta)$, sometimes known as the *nabla-log* trick.  \n",
    "Let us study the $\\nabla_\\theta \\log p(\\tau|\\theta)$ term along a series of remarks.\n",
    "\n",
    "**Remark 1: law of $s_{t+1},a_{t+1}$ given the policy and history.**  \n",
    "One has $p(s_{t+1},a_{t+1} | (s_i,a_i)_{i \\in [0,t]}, \\theta) = p(s_{t+1} | (s_i,a_i)_{i \\in [0,t]}, \\theta) p(a_{t+1} | s_{t+1}, (s_i,a_i)_{i \\in [0,t]}, \\theta)$.  \n",
    "But the transition model is Markovian, so $p(s_{t+1} | (s_i,a_i)_{i \\in [0,t]}, \\theta) = p(s_{t+1} | s_t, a_t)$.  \n",
    "And the law of $a_{t+1}$ is given by the policy, so $p(a_{t+1} | s_{t+1}, (s_i,a_i)_{i \\in [0,t]}, \\theta) = \\pi_\\theta(a_{t+1}|s_{t+1})$.  \n",
    "Consequently:\n",
    "$$p(s_{t+1},a_{t+1} | (s_i,a_i)_{i \\in [0,t]}, \\theta) = p(s_{t+1} | s_t, a_t) \\pi_\\theta(a_{t+1}|s_{t+1}).$$"
   ]
  },
  {
   "cell_type": "markdown",
   "id": "d1fd6aeb-d089-4a3d-9137-1bcc62fed008",
   "metadata": {},
   "source": [
    "**Remark 2: probability density of a trajectory.**  \n",
    "Recall that $p(\\tau|\\theta) = p((s_t,a_t)_{t\\in [0,\\infty]}|\\theta)$.  \n",
    "This joint probability can be decomposed into conditional probabilities: $$p(\\tau|\\theta) = p(s_0,a_0|\\theta) \\prod_{t=0}^\\infty p(s_{t+1},a_{t+1} | (s_i,a_i)_{i \\in [0,t]}, \\theta).$$ \n",
    "The previous remarks allows us to simplify to: $$p(\\tau|\\theta) = p(s_0,a_0|\\theta) \\prod_{t=0}^\\infty p(s_{t+1} | s_t, a_t) \\pi_\\theta(a_{t+1}|s_{t+1}).$$ \n",
    "By expanding the first term into $p(s_0)\\pi_\\theta(a_0|s_0)$ and reordering the terms inside the product, we obtain:\n",
    "$$p(\\tau|\\theta) = p(s_0) \\prod_{t=0}^\\infty p(s_{t+1} | s_t, a_t) \\pi_\\theta(a_t|s_t).$$"
   ]
  },
  {
   "cell_type": "markdown",
   "id": "e6d1ea75-547b-4115-ad79-7de88f5d4194",
   "metadata": {},
   "source": [
    "**Remark 3: the grad-log-prob trick.**  \n",
    "Now let us consider the full $\\nabla_\\theta \\log p(\\tau|\\theta)$ term. The previous remarks tell us that  \n",
    "$$\\nabla_\\theta \\log p(\\tau|\\theta) = \\nabla_\\theta \\log p(s_0) + \\sum_{t=0}^\\infty \\left[ \\nabla_\\theta \\log p(s_{t+1} | s_t, a_t) + \\nabla_\\theta \\log \\pi_\\theta(a_t|s_t)\\right].$$\n",
    "But the initial state distribution and the transition model do not depend on $\\theta$, so this expression boils down to:\n",
    "$$\\nabla_\\theta \\log p(\\tau|\\theta) = \\sum_{t=0}^\\infty \\nabla_\\theta \\log \\pi_\\theta(a_t|s_t).$$\n",
    "\n",
    "And we will admit the step which leads to:\n",
    "$$\\nabla_\\theta J(\\theta) = \\mathbb{E}_{\\substack{s\\sim\\rho^\\pi \\\\ a\\sim \\pi}} \\left[ G(\\tau) \\nabla_\\theta \\log \\pi_\\theta(a|s) \\right].$$\n",
    "\n",
    "We don't quite have the policy gradient as stated above, but this intermediate result actually already provides us with a straightforward algorithm, so let's mark it:\n",
    "<div class=\"alert alert-success\">\n",
    "\n",
    "**Policy gradient**  \n",
    "Given trajectories $\\tau=(s_t,a_t)_{t\\in [0,\\infty]}$ drawn according to policy $\\pi$, and evaluated through a criterion $G(\\tau)$, \n",
    "$$\\nabla_\\theta J(\\theta) = \\mathbb{E}_{\\substack{s\\sim\\rho^\\pi \\\\ a\\sim \\pi}} \\left[ G(\\tau) \\nabla_\\theta \\log \\pi_\\theta(a|s) \\right].$$\n",
    "</div>"
   ]
  },
  {
   "cell_type": "markdown",
   "id": "171fd865-00d3-4fec-beee-419416af88d1",
   "metadata": {},
   "source": [
    "**Interpretation**  \n",
    "Let us consider a fixed $s$.  \n",
    "Then $\\nabla_\\theta \\log \\pi_\\theta(a|s)$ is the answer to \"in what direction should I change $\\theta$ to increase the log probability of taking action $a$ in $s$?\".  \n",
    "The expression above tells us that in order to improve the value of $\\pi_\\theta$, we should change $\\theta$ in a direction that is a linear combination of all $\\nabla_\\theta \\pi_\\theta(a|s)$, giving more weight to action $a$ in state $s$ in proportion to the value $G(\\tau)$ of the trajectory they belong too.   \n",
    "In even simpler words: if a trajectory was better than another, its action probabilities should be reinforced (hence the name of the algorithm).\n",
    "\n",
    "The next section will focus on implementing this algorithm (almost), but for now let us finish deriving the policy gradient theorem."
   ]
  },
  {
   "cell_type": "markdown",
   "id": "f0190d84-c24c-4648-809d-717556ac60c5",
   "metadata": {},
   "source": [
    "**Remark 4: the expected grad-log-prob lemma.**  \n",
    "Let us take a step aside and consider the expectation of $\\nabla_\\theta \\log \\pi_\\theta(a|s)$.  \n",
    "Let's simplify the notation and consider a generic probability density function $\\pi_\\theta(x)$. Then:\n",
    "\\begin{align}\n",
    "\\mathbb{E}_{x\\sim \\pi_\\theta} [ \\nabla_\\theta \\log \\pi_\\theta(x) ] &= \\int_x \\pi_\\theta(x) \\nabla_\\theta \\log \\pi_\\theta(x) dx\\\\\n",
    " &= \\int_x \\pi_\\theta(x) dx\\\\\n",
    " &= \\nabla_\\theta \\int_x \\pi_\\theta(x) dx\\\\\n",
    " &= \\nabla_\\theta 1\\\\\n",
    " &= 0\n",
    "\\end{align}\n",
    "So we get that: \n",
    "$$\\mathbb{E}_{\\substack{s\\sim\\rho^\\pi \\\\ a\\sim \\pi}} \\left[ \\nabla_\\theta \\log \\pi_\\theta(a|s) \\right] = 0.$$\n",
    "Actually, we can generalize this immediately: we can add anything that does not depend on $a$, and multiply by anything that does not depend on $a$ and obtain the same result:\n",
    "$$\\mathbb{E}_{\\substack{s\\sim\\rho^\\pi \\\\ a\\sim \\pi}} \\left[ k(s)\\left[ \\nabla_\\theta \\log \\pi_\\theta(a|s) - b(s) \\right] \\right] = 0.$$\n",
    "This will come in handy in a future section about baselines in policy gradients and will serve as a basis for the exercise on [Generalized Advantage Estimation (Schulman et al., 2016)](https://arxiv.org/abs/1506.02438), but for now it will help us finish proving the policy gradient theorem."
   ]
  },
  {
   "cell_type": "markdown",
   "id": "9e1f927a-89bb-430c-ae15-d31386759126",
   "metadata": {},
   "source": [
    "**Obtaining the policy gradient theorem**  \n",
    "Recall that for a $\\gamma$ discounted criterion:\n",
    "$$G(\\tau) = \\sum_{t'=0}^\\infty \\gamma^{t'} r_{t'}.$$\n",
    "Let us consider a given time step $t$, at which a certain $(s,a)$ is encountered in $\\tau$. Then:\n",
    "$$G(\\tau) = \\sum_{t'=0}^{t-1} \\gamma^{t'} r_{t'} + \\sum_{t'=t}^\\infty \\gamma^{t'} r_{t'}.$$\n",
    "Then we have:\n",
    "\\begin{align*}\n",
    "\\nabla_\\theta J(\\theta) &= \\mathbb{E}_{\\substack{s\\sim\\rho^\\pi \\\\ a\\sim \\pi}} \\left[ G(\\tau) \\nabla_\\theta \\log \\pi_\\theta(a|s) \\right],\\\\\n",
    " &= \\mathbb{E}_{\\substack{s\\sim\\rho^\\pi \\\\ a\\sim \\pi}} \\left[ \\left[\\sum_{t'=0}^{t-1} \\gamma^{t'} r_{t'} + \\sum_{t'=t}^\\infty \\gamma^{t'} r_{t'} \\right] \\nabla_\\theta \\log \\pi_\\theta(a|s) \\right].\n",
    "\\end{align*}\n",
    "Since $t$ is the time of occurence of $(s,a)$ in $\\tau$, the first sum $\\sum_{t'=0}^{t-1} \\gamma^{t'} r_{t'}$ does not depend on $a$. Consequently (thanks to the last remark):\n",
    "$$\\mathbb{E}_{\\substack{s\\sim\\rho^\\pi \\\\ a\\sim \\pi}} \\left[ \\left[\\sum_{t'=0}^{t-1} \\gamma^{t'} r_{t'} \\right] \\nabla_\\theta \\log \\pi_\\theta(a|s) \\right] = 0.$$\n",
    "\n",
    "In other words, any reward obtained before action $a$ is taken should not participate in reinforcing the probability of $a$ in $s$. This seems rather intuitive: an action should be reinforced only based on its consequences, not on rewards acquired before taking the action.\n",
    "\n",
    "So, since $Q^\\pi(s,a) = \\mathbb{E} [ \\sum_{t'=t}^\\infty \\gamma^{t'} r_{t'} | S_t=s, A_t=a, \\theta]$, we finally obtain the policy gradient:\n",
    "$$\\nabla_\\theta J(\\theta) \\propto \\mathbb{E}_{\\substack{s\\sim\\rho^\\pi \\\\ a\\sim \\pi}} \\left[ Q^\\pi(s,a) \\nabla_\\theta \\log\\pi(a|s)\\right].$$"
   ]
  },
  {
   "cell_type": "markdown",
   "id": "bf82ad47-a819-4361-b92c-80889cf17f30",
   "metadata": {},
   "source": [
    "**Interpretation**  \n",
    "Let us rephrase and refine the previous interpretation.  \n",
    "Consider a fixed $s$. Then (again) $\\nabla_\\theta \\log \\pi(a|s)$ is the answer to \"in what direction should I change $\\theta$ to increase the log probability of taking action $a$ in $s$?\".   \n",
    "The policy gradient theorem tells us that in order to improve the value of $\\pi_\\theta$, we should change $\\theta$ in a direction that is a linear combination of all $\\nabla_\\theta \\pi(a|s)$, giving more weight to actions that provide a large $Q^\\pi(s,a)$. \n",
    "\n",
    "We can push the interpretation of $\\nabla_\\theta \\log \\pi(a|s) = \\frac{\\nabla_\\theta \\pi(a|s)}{\\pi(a|s)}$ a bit further. $\\nabla_\\theta \\pi(a_t|s_t)$ is a vector in parameter space that points in the direction of greatest increase of $\\pi(a|s)$. The update will encourage taking a step in this direction if the action provided high return (through $Q(s,a)$), but moving in this direction will be moderated if the action is already picked frequently (through $\\pi(a|s)$) so that other actions have a chance also."
   ]
  },
  {
   "cell_type": "markdown",
   "id": "7b455538-de3b-4b9b-a4e5-1783f3dd7acd",
   "metadata": {},
   "source": [
    "# REINFORCE\n",
    "\n",
    "Recall the intermediate result in our derivation of the policy gradient theorem:\n",
    "<div class=\"alert alert-success\">\n",
    "\n",
    "**Policy gradient**  \n",
    "$$\\nabla_\\theta J(\\theta) \\propto \\mathbb{E}_{\\substack{s\\sim\\rho^\\pi \\\\ a\\sim \\pi}} \\left[ Q^\\pi(s,a) \\nabla_\\theta \\log\\pi(a|s)\\right]$$\n",
    "</div>\n",
    "\n",
    "So, to compute the gradient, we can run the policy within the environment, and this will provide us with states distributed according to $\\rho^\\pi$ and actions distributed according to $\\pi$. The full trajectory of states-actions-rewards provides a Monte Carlo estimate $G_t$ of $Q^\\pi(s_t,a_t)$ from any state $s_t$ traversed by the trajectory. In turn, this allows to estimate $Q^\\pi(s_t,a_t) \\nabla_\\theta \\log \\pi(a_t|s_t)$ for any of these states. The sum over all states provides the gradient estimate.\n",
    "\n",
    "This algorithm, introduced by [Williams (1992)](https://link.springer.com/article/10.1007/BF00992696) is called REINFORCE. It requires a finite-length trajectory and its pseudo-code goes as follows.\n",
    "1. Initialize policy parameter $\\theta$\n",
    "2. Generate a trajectory by playing $\\pi$: $s_0,a_0,r_0,...s_{T}$\n",
    "3. For $t\\in [1, 2, … , T]$:\n",
    "    1. Estimate return $G_t$\n",
    "    2. Update policy parameter: $\\theta \\leftarrow \\theta + \\alpha \\gamma^t G_t \\nabla_\\theta \\log \\pi(a_t|s_t)$"
   ]
  },
  {
   "cell_type": "markdown",
   "id": "d01b69a0-10b7-44a1-8ae1-2f6bf2236170",
   "metadata": {},
   "source": [
    "Modern deep learning libraries don't take gradients as inputs. Instead, they use automated differentiation to compute them for a given expression, given a batch of samples. So we would like to build a objective function such that its gradient estimated on the minibatch composed of the last trajectory's samples $(s,a)$ corresponds to the expression above.\n",
    "\n",
    "So we want to define $\\ell(\\theta)$ such that $-\\nabla_\\theta \\mathbb{E}_{\\substack{s\\sim\\rho^\\pi \\\\ a\\sim \\pi}} \\left[ \\ell(\\theta,s,a) \\right]$ coincides with $\\nabla_\\theta J(\\theta)$. Very simply, taking $\\ell(\\theta) = Q(s,a)\\cdot \\nabla_\\theta \\log \\pi(a|s)$ achieves this goal as long as $Q(s,a)$ is an unbiased estimate of $Q^\\pi(s,a)$. \n",
    "\n",
    "**Super important remark**  \n",
    "In supervised learning, it is a common practice to monitor the empirical risk along training. \n",
    "But $L(\\theta) = -\\mathbb{E}_{\\substack{s\\sim\\rho^\\pi \\\\ a\\sim \\pi}} \\left[ \\ell(\\theta,s,a) \\right]$ is not comparable to the losses one usually encounters in supervised learning in any way!  \n",
    "In particular, $-L(\\theta) \\neq J(\\theta)$. So it makes absolutely no sense monitoring the value of this artificial \"loss\" function along training, and even less interpreting its value as some performance metric. It is *just* an expression whose gradient coincides with the (opposite of the) policy gradient."
   ]
  },
  {
   "cell_type": "markdown",
   "id": "91550080-e2b1-44d0-817b-8b78580fa619",
   "metadata": {},
   "source": [
    "Let's implement REINFORCE for discrete action spaces.\n",
    "<div class=\"alert alert-warning\">\n",
    "    \n",
    "**Exercise:**  \n",
    "Declare a categorical distribution for $\\pi(a|s)$.\n",
    "</div>"
   ]
  },
  {
   "cell_type": "code",
   "execution_count": 4,
   "id": "77f71429-6009-4ad3-842d-7ce51919a13a",
   "metadata": {},
   "outputs": [],
   "source": [
    "import torch\n",
    "import torch.nn as nn\n",
    "import torch.nn.functional as F\n",
    "from torch.distributions import Categorical\n",
    "\n",
    "device = torch.device(\"cuda\" if torch.cuda.is_available() else \"cpu\")\n",
    "\n",
    "class policyNetwork(nn.Module):\n",
    "    def __init__(self, env):\n",
    "        super().__init__()\n",
    "        state_dim = env.observation_space.shape[0]\n",
    "        n_action = env.action_space.n\n",
    "        self.fc1 = nn.Linear(state_dim, 128)\n",
    "        self.fc2 = nn.Linear(128, n_action)\n",
    "\n",
    "    def forward(self, x):\n",
    "        x = F.relu(self.fc1(x))\n",
    "        action_scores = self.fc2(x)\n",
    "        return F.softmax(action_scores,dim=0)\n",
    "\n",
    "    def sample_action(self, x):\n",
    "        probabilities = self.forward(x)\n",
    "        action_distribution = Categorical(probabilities)\n",
    "        return action_distribution.sample().item()\n",
    "\n",
    "    def log_prob(self, x, a):\n",
    "        probabilities = self.forward(x)\n",
    "        action_distribution = Categorical(probabilities)\n",
    "        return action_distribution.log_prob(a)"
   ]
  },
  {
   "cell_type": "code",
   "execution_count": 19,
   "id": "760f6951-aba0-42e5-9fd8-ff3bfd43a6ec",
   "metadata": {},
   "outputs": [],
   "source": [
    "import numpy as np\n",
    "import torch\n",
    "import torch.nn as nn\n",
    "import torch.nn.functional as F\n",
    "from tqdm import trange\n",
    "\n",
    "class reinforce_agent:\n",
    "    def __init__(self, policy_network):\n",
    "        self.policy = policy_network\n",
    "        self.gamma = .99\n",
    "        self.optimizer = torch.optim.Adam(list(self.policy.parameters()), lr=0.01)\n",
    "\n",
    "    def sample_action(state):\n",
    "        return action\n",
    "    \n",
    "    def train_one_rollout(self, env):\n",
    "        # run trajectory until done\n",
    "        x,_ = env.reset()\n",
    "        states = []\n",
    "        actions = []\n",
    "        rewards = []\n",
    "        while(True):\n",
    "            a = self.policy.sample_action(torch.as_tensor(x))\n",
    "            y,r,d,_,_ = env.step(a)\n",
    "            states.append(x)\n",
    "            actions.append(a)\n",
    "            rewards.append(r)\n",
    "            if d:\n",
    "                break\n",
    "        # compute returns-to-go\n",
    "        returns = []\n",
    "        G_t = 0\n",
    "        for r in reversed(rewards):\n",
    "            G_t = r + self.gamma * G_t\n",
    "            returns.append(G_t)\n",
    "        returns = torch.tensor(list(reversed(returns)))\n",
    "        # make loss\n",
    "        log_prob = self.policy.log_prob(torch.as_tensor(states),torch.as_tensor(actions))\n",
    "        loss = -(torch.as_tensor(returns) * log_prob).mean()\n",
    "        # gradient step\n",
    "        self.optimizer.zero_grad()\n",
    "        loss.backward()\n",
    "        self.optimizer.step()\n",
    "        return returns[0].item()\n",
    "\n",
    "    def train(self, env, nb_rollouts):\n",
    "        returns = []\n",
    "        for ep in range(nb_rollouts):\n",
    "            ret = self.train_one_rollout(env)\n",
    "            returns.append(ret)\n",
    "        return returns"
   ]
  },
  {
   "cell_type": "code",
   "execution_count": 20,
   "id": "51a0c209-97bd-49fd-9dad-c08d6abb3a62",
   "metadata": {},
   "outputs": [
    {
     "data": {
      "text/plain": [
       "[<matplotlib.lines.Line2D at 0x7fd802e66190>]"
      ]
     },
     "execution_count": 20,
     "metadata": {},
     "output_type": "execute_result"
    },
    {
     "data": {
      "image/png": "[encoded data removed]",
      "text/plain": [
       "<Figure size 640x480 with 1 Axes>"
      ]
     },
     "metadata": {},
     "output_type": "display_data"
    }
   ],
   "source": [
    "import gymnasium as gym\n",
    "import matplotlib.pyplot as plt\n",
    "cartpole = gym.make('CartPole-v1', render_mode=\"rgb_array\")\n",
    "\n",
    "pi = policyNetwork(cartpole)\n",
    "agent = reinforce_agent(pi)\n",
    "returns = agent.train(cartpole,1000)\n",
    "plt.plot(returns)"
   ]
  },
  {
   "cell_type": "markdown",
   "id": "0896c549-7b04-4efe-bbc2-7d010aaf27e8",
   "metadata": {},
   "source": [
    "    \n",
    "The gradient estimate of the policy gradient often has a high variance. A common practice consists in substracting an action-independent *baseline* $b(s)$ from the estimate of $Q^\\pi(s,a)$, yielding:\n",
    "$$\\nabla_\\theta J(\\theta) \\propto \\mathbb{E}_{\\substack{s\\sim\\rho^\\pi \\\\ a\\sim \\pi}} \\left[ \\left( Q^\\pi(s,a) -b(s) \\right) \\nabla_\\theta \\log\\pi(a|s)\\right]$$\n",
    "\n",
    "It is rather easy to remark that this baseline does not affect the gradient estimate since it's expected value is zero. However it can contribute to strongly decrease the estimate's variance. One common choice for such a baseline is the policy's value function $V^\\pi$. This turns REINFORCE into an *advantage* estimation algorithm where the advantage is the function defined as:\n",
    "$$A^\\pi(s,a) = Q^\\pi(s,a) - V^\\pi(s)$$\n",
    "\n",
    "But estimating this advantage function requires estimating $V^\\pi$, which in turn requires to maintain a (possibly parameterized) function $V$ on top of the current (parameterized) policy $\\pi$.\n",
    "\n",
    "We will leave this topic aside for now and will directly look at the generalization of the Policy Gradient theorem to Actor-Critic methods."
   ]
  },
  {
   "cell_type": "markdown",
   "id": "cf727ddb-841d-43f1-80a9-3d2d60fd3101",
   "metadata": {},
   "source": [
    "# Actor-Critic"
   ]
  },
  {
   "cell_type": "markdown",
   "id": "ca8712de-db1a-43a6-9d5c-c90d1741b5fb",
   "metadata": {},
   "source": [
    "# TRPO"
   ]
  },
  {
   "cell_type": "markdown",
   "id": "18138b35-51dc-4f17-98aa-8db737a218d2",
   "metadata": {},
   "source": [
    "# PPO"
   ]
  },
  {
   "cell_type": "markdown",
   "id": "c43c7b87-6d9a-4a2b-ac8e-1c942d251978",
   "metadata": {},
   "source": [
    "# Exercises"
   ]
  },
  {
   "cell_type": "markdown",
   "id": "a6a91884-4238-4c04-87fb-fc33d6c6040e",
   "metadata": {},
   "source": [
    "## Policy gradients for the finite horizon criterion\n",
    "\n",
    "Derive the PG for the total reward, finite horizon criterion.\n",
    "\n",
    "Implement a REINFORCE algorithm (maybe more? an AC algorithm?)"
   ]
  },
  {
   "cell_type": "markdown",
   "id": "7b11d3b9-3790-4df0-8ec5-7ea7ed265428",
   "metadata": {},
   "source": [
    "## Generalized advantage estimation"
   ]
  },
  {
   "cell_type": "markdown",
   "id": "9d725ead-ea20-495e-95de-a03c771ce2f9",
   "metadata": {},
   "source": [
    "## Gradient-free policy search\n",
    "\n",
    "OpenAI ES and Canonical ES"
   ]
  }
 ],
 "metadata": {
  "kernelspec": {
   "display_name": "Python 3 (ipykernel)",
   "language": "python",
   "name": "python3"
  },
  "language_info": {
   "codemirror_mode": {
    "name": "ipython",
    "version": 3
   },
   "file_extension": ".py",
   "mimetype": "text/x-python",
   "name": "python",
   "nbconvert_exporter": "python",
   "pygments_lexer": "ipython3",
   "version": "3.9.18"
  }
 },
 "nbformat": 4,
 "nbformat_minor": 5
}
